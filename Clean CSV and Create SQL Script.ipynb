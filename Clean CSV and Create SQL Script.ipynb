{
 "cells": [
  {
   "attachments": {},
   "cell_type": "markdown",
   "id": "ff0b41ed",
   "metadata": {},
   "source": [
    "# IBM SQL for Data Science\n",
    "## Hands-on Lab: String Patterns, Sorting and Grouping\n",
    "**Context**: I was working on a MySQL project that is part of IBM's SQL for Data Science course on edX. I created scripts to create tables and load data into it manually. During the exercise, I noticed there was a discrepency because the picture provided to me only had 3 employees, but in the exercise there were 10 employees. \n",
    "\n",
    "**Problem**: I want to fix my SQL script so that it loads all the necessary data into the employees data. I have the CSV from the previous lab. However, when loading it in Google Sheets, the formatting is messed up. I don't want to have to manually clean the data.\n",
    "\n",
    "**Solution**: Use Python to clean the data so that it can be used to create the SQL scripts necessary to load the data into the tables."
   ]
  },
  {
   "attachments": {},
   "cell_type": "markdown",
   "id": "69af2b9f",
   "metadata": {},
   "source": [
    "### 1. Read the CSV with named headers"
   ]
  },
  {
   "cell_type": "code",
   "execution_count": 1,
   "id": "874bd772",
   "metadata": {
    "scrolled": false
   },
   "outputs": [
    {
     "name": "stdout",
     "output_type": "stream",
     "text": [
      "  EMP_ID   F_NAME   L_NAME     SSN      B_DATE SEX                       ADDRESS  JOB_ID  SALARY  MANAGER_ID  DEP_ID\n",
      "0  E1001     John   Thomas  123456  1976-09-01   M         5631 Rice, OakPark,IL     100  100000       30001       2\n",
      "1  E1002    Alice    James  123457  1972-07-31   F        980 Berry ln, Elgin,IL     200   80000       30002       5\n",
      "2  E1003    Steve    Wells  123458  1980-10-08   M          291 Springs, Gary,IL     300   50000       30002       5\n",
      "3  E1004  Santosh    Kumar  123459  1985-07-20   M      511 Aurora Av, Aurora,IL     400   60000       30004       5\n",
      "4  E1005    Ahmed  Hussain  123410  1981-04-01   M       216 Oak Tree, Geneva,IL     500   70000       30001       2\n",
      "5  E1006    Nancy    Allen  123411  1978-06-02   F        111 Green Pl, Elgin,IL     600   90000       30001       2\n",
      "6  E1007     Mary   Thomas  123412  1975-05-05   F          100 Rose Pl, Gary,IL     650   65000       30003       7\n",
      "7  E1008  Bharath    Gupta  123413  1985-06-05   M   145 Berry Ln, Naperville,IL     660   65000       30003       7\n",
      "8  E1009   Andrea    Jones  123414  1990-09-07   F       120 Fall Creek, Gary,IL     234   70000       30003       7\n",
      "9  E1010      Ann    Jacob  123415  1982-03-30   F  111 Britany Springs,Elgin,IL     220   70000       30004       5\n"
     ]
    }
   ],
   "source": [
    "import pandas as pd\n",
    "\n",
    "# write the column names\n",
    "column_names = ['EMP_ID', 'F_NAME', 'L_NAME', 'SSN', 'B_DATE', 'SEX', 'ADDRESS', 'JOB_ID', 'SALARY', 'MANAGER_ID', 'DEP_ID']\n",
    "\n",
    "df = pd.read_csv('Employees_updated.csv', names=column_names)\n",
    "\n",
    "print(df.to_string())"
   ]
  },
  {
   "attachments": {},
   "cell_type": "markdown",
   "id": "5d8eb7c6",
   "metadata": {},
   "source": [
    "### 2. Load the data into a dictionary"
   ]
  },
  {
   "cell_type": "code",
   "execution_count": 2,
   "id": "380ea174",
   "metadata": {},
   "outputs": [
    {
     "name": "stdout",
     "output_type": "stream",
     "text": [
      "{'E1001': {'F_NAME': 'John', 'L_NAME': 'Thomas', 'SSN': 123456, 'B_DATE': '1976-09-01', 'SEX': 'M', 'ADDRESS': '5631 Rice, OakPark,IL', 'JOB_ID': 100, 'SALARY': 100000, 'MANAGER_ID': 30001, 'DEP_ID': 2}, 'E1002': {'F_NAME': 'Alice', 'L_NAME': 'James', 'SSN': 123457, 'B_DATE': '1972-07-31', 'SEX': 'F', 'ADDRESS': '980 Berry ln, Elgin,IL', 'JOB_ID': 200, 'SALARY': 80000, 'MANAGER_ID': 30002, 'DEP_ID': 5}, 'E1003': {'F_NAME': 'Steve', 'L_NAME': 'Wells', 'SSN': 123458, 'B_DATE': '1980-10-08', 'SEX': 'M', 'ADDRESS': '291 Springs, Gary,IL', 'JOB_ID': 300, 'SALARY': 50000, 'MANAGER_ID': 30002, 'DEP_ID': 5}, 'E1004': {'F_NAME': 'Santosh', 'L_NAME': 'Kumar', 'SSN': 123459, 'B_DATE': '1985-07-20', 'SEX': 'M', 'ADDRESS': '511 Aurora Av, Aurora,IL', 'JOB_ID': 400, 'SALARY': 60000, 'MANAGER_ID': 30004, 'DEP_ID': 5}, 'E1005': {'F_NAME': 'Ahmed', 'L_NAME': 'Hussain', 'SSN': 123410, 'B_DATE': '1981-04-01', 'SEX': 'M', 'ADDRESS': '216 Oak Tree, Geneva,IL', 'JOB_ID': 500, 'SALARY': 70000, 'MANAGER_ID': 30001, 'DEP_ID': 2}, 'E1006': {'F_NAME': 'Nancy', 'L_NAME': 'Allen', 'SSN': 123411, 'B_DATE': '1978-06-02', 'SEX': 'F', 'ADDRESS': '111 Green Pl, Elgin,IL', 'JOB_ID': 600, 'SALARY': 90000, 'MANAGER_ID': 30001, 'DEP_ID': 2}, 'E1007': {'F_NAME': 'Mary', 'L_NAME': 'Thomas', 'SSN': 123412, 'B_DATE': '1975-05-05', 'SEX': 'F', 'ADDRESS': '100 Rose Pl, Gary,IL', 'JOB_ID': 650, 'SALARY': 65000, 'MANAGER_ID': 30003, 'DEP_ID': 7}, 'E1008': {'F_NAME': 'Bharath', 'L_NAME': 'Gupta', 'SSN': 123413, 'B_DATE': '1985-06-05', 'SEX': 'M', 'ADDRESS': '145 Berry Ln, Naperville,IL', 'JOB_ID': 660, 'SALARY': 65000, 'MANAGER_ID': 30003, 'DEP_ID': 7}, 'E1009': {'F_NAME': 'Andrea', 'L_NAME': 'Jones', 'SSN': 123414, 'B_DATE': '1990-09-07', 'SEX': 'F', 'ADDRESS': '120 Fall Creek, Gary,IL', 'JOB_ID': 234, 'SALARY': 70000, 'MANAGER_ID': 30003, 'DEP_ID': 7}, 'E1010': {'F_NAME': 'Ann', 'L_NAME': 'Jacob', 'SSN': 123415, 'B_DATE': '1982-03-30', 'SEX': 'F', 'ADDRESS': '111 Britany Springs,Elgin,IL', 'JOB_ID': 220, 'SALARY': 70000, 'MANAGER_ID': 30004, 'DEP_ID': 5}}\n"
     ]
    }
   ],
   "source": [
    "# create a dictionary\n",
    "data_dict = {}\n",
    "\n",
    "# iterate over the rows in the DataFrame and put the data into the dictionary\n",
    "for index, row in df.iterrows():\n",
    "    emp_id = row['EMP_ID']\n",
    "    # this puts the whole row except the EMP_ID column into the dictionary\n",
    "    data_dict[emp_id] = row.drop('EMP_ID').to_dict()\n",
    "\n",
    "# print the dictionary \n",
    "print(data_dict)"
   ]
  },
  {
   "attachments": {},
   "cell_type": "markdown",
   "id": "31c85d47",
   "metadata": {},
   "source": [
    "**Explanation of** `index` **and** `row`**:**\n",
    "\n",
    "```python\n",
    "for index, row in df.iterrows():\n",
    "    emp_id = row['EMP_ID']\n",
    "    # this puts the whole row except the EMP_ID column into the dictionary\n",
    "    data_dict[emp_id] = row.drop('EMP_ID').to_dict()\n",
    "```\n",
    "\n",
    "**Index:** The index represents the row index of the DataFrame. It is a ***unique identifier*** assigned to each row and is typically an integer by default. The index provides a way to locate and reference specific rows in the DataFrame.\n",
    "\n",
    "**Row:** The row represents the data contained within a single row of the DataFrame. It is a pandas *Series object* that ***contains the values of all columns for that particular row***. Each element in the Series is identified by its corresponding column name."
   ]
  },
  {
   "attachments": {},
   "cell_type": "markdown",
   "id": "b4ece2d3",
   "metadata": {},
   "source": [
    "### 3. Create query to insert the values into the EMPLOYEE table"
   ]
  },
  {
   "cell_type": "code",
   "execution_count": 3,
   "id": "464c8f22",
   "metadata": {},
   "outputs": [
    {
     "name": "stdout",
     "output_type": "stream",
     "text": [
      "INSERT INTO EMPLOYEES \n",
      "(EMP_ID, F_NAME, L_NAME, SSN, B_DATE, SEX, ADDRESS, JOB_ID, SALARY, MANAGER_ID, DEP_ID)\n",
      "VALUES\n",
      "('E1001', 'John', 'Thomas', 123456, '1976-09-01', 'M', '5631 Rice, OakPark,IL', 100, 100000, 30001, 2),\n",
      "('E1002', 'Alice', 'James', 123457, '1972-07-31', 'F', '980 Berry ln, Elgin,IL', 200, 80000, 30002, 5),\n",
      "('E1003', 'Steve', 'Wells', 123458, '1980-10-08', 'M', '291 Springs, Gary,IL', 300, 50000, 30002, 5),\n",
      "('E1004', 'Santosh', 'Kumar', 123459, '1985-07-20', 'M', '511 Aurora Av, Aurora,IL', 400, 60000, 30004, 5),\n",
      "('E1005', 'Ahmed', 'Hussain', 123410, '1981-04-01', 'M', '216 Oak Tree, Geneva,IL', 500, 70000, 30001, 2),\n",
      "('E1006', 'Nancy', 'Allen', 123411, '1978-06-02', 'F', '111 Green Pl, Elgin,IL', 600, 90000, 30001, 2),\n",
      "('E1007', 'Mary', 'Thomas', 123412, '1975-05-05', 'F', '100 Rose Pl, Gary,IL', 650, 65000, 30003, 7),\n",
      "('E1008', 'Bharath', 'Gupta', 123413, '1985-06-05', 'M', '145 Berry Ln, Naperville,IL', 660, 65000, 30003, 7),\n",
      "('E1009', 'Andrea', 'Jones', 123414, '1990-09-07', 'F', '120 Fall Creek, Gary,IL', 234, 70000, 30003, 7),\n",
      "('E1010', 'Ann', 'Jacob', 123415, '1982-03-30', 'F', '111 Britany Springs,Elgin,IL', 220, 70000, 30004, 5);\n"
     ]
    }
   ],
   "source": [
    "# create a sql insert statement for each item in the dictionary\n",
    "# format is:\n",
    "# INSERT INTO EMPLOYEES (column_1, column_2, ..., column_n) \n",
    "# VALUES (value_1, value_2, ..., value_n)\n",
    "# note that all must in quotes b/c they are VARCHAR() or DATE() types, except SSN, JOB_ID, SALARY, MANAGER_ID, and DEP_ID which are INT() types\n",
    "\n",
    "values = []\n",
    "for key, value in data_dict.items():\n",
    "    # determine the value set to be used in our query\n",
    "    value_set = f\"('{key}', '{value['F_NAME']}', '{value['L_NAME']}', {value['SSN']}, '{value['B_DATE']}', '{value['SEX']}', '{value['ADDRESS']}', {value['JOB_ID']}, {value['SALARY']}, {value['MANAGER_ID']}, {value['DEP_ID']})\"\n",
    "    # append the value set to our values list\n",
    "    values.append(value_set)\n",
    "\n",
    "# create an insert statement that creates the query we need to insert the data into our EMPLOYEE table\n",
    "insert_statement = \"INSERT INTO EMPLOYEES \\n(EMP_ID, F_NAME, L_NAME, SSN, B_DATE, SEX, ADDRESS, JOB_ID, SALARY, MANAGER_ID, DEP_ID)\" + \"\\nVALUES\\n\" + \",\\n\".join(values) + \";\"\n",
    "\n",
    "\n",
    "print(insert_statement)\n"
   ]
  }
 ],
 "metadata": {
  "kernelspec": {
   "display_name": "Python 3 (ipykernel)",
   "language": "python",
   "name": "python3"
  },
  "language_info": {
   "codemirror_mode": {
    "name": "ipython",
    "version": 3
   },
   "file_extension": ".py",
   "mimetype": "text/x-python",
   "name": "python",
   "nbconvert_exporter": "python",
   "pygments_lexer": "ipython3",
   "version": "3.10.6"
  }
 },
 "nbformat": 4,
 "nbformat_minor": 5
}
